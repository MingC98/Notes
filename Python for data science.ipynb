{
 "cells": [
  {
   "cell_type": "markdown",
   "id": "24f9d897-5c9c-4dee-8675-5a8fab6fbfd4",
   "metadata": {},
   "source": [
    "# Python for data science"
   ]
  },
  {
   "cell_type": "markdown",
   "id": "91fe5fd2-a8de-4170-b3c1-2f33856b92b5",
   "metadata": {},
   "source": [
    "## Numpy"
   ]
  },
  {
   "cell_type": "markdown",
   "id": "6f2ab14d-e069-459e-b618-e8863f606d35",
   "metadata": {},
   "source": [
    "### Numpy array"
   ]
  },
  {
   "cell_type": "markdown",
   "id": "50679129-97b7-422d-8da3-b051990abb6c",
   "metadata": {},
   "source": [
    "### Boolean mask and using"
   ]
  },
  {
   "cell_type": "code",
   "execution_count": null,
   "id": "256e2148-af95-4a7f-9437-fcadf8fbd0ec",
   "metadata": {},
   "outputs": [],
   "source": [
    "import numpy as np\n",
    "# Import numpy\n",
    "import numpy as np\n",
    "\n",
    "# Calculate the BMI: bmi\n",
    "np_height_m = np.array(height_in) * 0.0254\n",
    "np_weight_kg = np.array(weight_lb) * 0.453592\n",
    "bmi = np_weight_kg / np_height_m ** 2\n",
    "\n",
    "# Create the light array\n",
    "light = bmi<21\n",
    "\n",
    "# Print out light\n",
    "print(light)\n",
    "\n",
    "# Print out BMIs of all baseball players whose BMI is below 21\n",
    "print(bmi[light])"
   ]
  },
  {
   "cell_type": "markdown",
   "id": "1275e227-0ee7-47de-ac7b-5dddcf4b7daa",
   "metadata": {},
   "source": [
    "### np.array slicing & access element from np.array are the same as list in python"
   ]
  },
  {
   "cell_type": "code",
   "execution_count": null,
   "id": "a2087328-08c6-4b2e-bac9-d62649044d4d",
   "metadata": {},
   "outputs": [],
   "source": [
    "# Import numpy\n",
    "import numpy as np\n",
    "\n",
    "# Store weight and height lists as numpy arrays\n",
    "np_weight_lb = np.array(weight_lb)\n",
    "np_height_in = np.array(height_in)\n",
    "\n",
    "# Print out the weight at index 50\n",
    "print(np_weight_lb[50])\n",
    "\n",
    "# Print out sub-array of np_height_in: index 100 up to and including index 110\n",
    "print(np_height_in[100:111])"
   ]
  },
  {
   "cell_type": "markdown",
   "id": "f7676356-f808-46ab-81c2-8378ef62074c",
   "metadata": {},
   "source": [
    "### Numpy, logical operation over np.array"
   ]
  },
  {
   "cell_type": "code",
   "execution_count": null,
   "id": "9b4a957f-5958-4f4e-8d9a-2ecea428ef91",
   "metadata": {},
   "outputs": [],
   "source": [
    "# Create arrays\n",
    "import numpy as np\n",
    "my_house = np.array([18.0, 20.0, 10.75, 9.50])\n",
    "your_house = np.array([14.0, 24.0, 14.25, 9.0])\n",
    "\n",
    "# my_house greater than 18.5 or smaller than 10\n",
    "np.logical_or(my_house > 18.5, my_house<10)\n",
    "\n",
    "# Both my_house and your_house smaller than 11\n",
    "np.logical_and(my_house<11, your_house<11)"
   ]
  },
  {
   "cell_type": "markdown",
   "id": "6dbac83d-bae1-49f9-ad7f-890f4406c3ce",
   "metadata": {},
   "source": [
    "### Use fstring to print float"
   ]
  },
  {
   "cell_type": "code",
   "execution_count": null,
   "id": "cdaaa04c-b4ab-41e2-bd84-cb735082f973",
   "metadata": {},
   "outputs": [],
   "source": [
    "# Print floats 1, 2, and 3\n",
    "print(float1)\n",
    "print(float2)\n",
    "print(float3)\n",
    "\n",
    "# Print floats 2 and 3 using the f string formatter\n",
    "print(f\"{float2:f}\")\n",
    "print(f\"{float3:f}\")\n",
    "\n",
    "# Print float 3 with a 7 f string precision\n",
    "print(f\"{float3:.7f}\")"
   ]
  },
  {
   "cell_type": "markdown",
   "id": "c34e459c-c0b8-4c1b-a2b5-d1341717356d",
   "metadata": {},
   "source": [
    "## List"
   ]
  },
  {
   "cell_type": "markdown",
   "id": "d015cb5a-1cea-48ba-8ab5-6d5f1e3dacf7",
   "metadata": {},
   "source": [
    "### Adding/Deleting/Extending list"
   ]
  },
  {
   "cell_type": "code",
   "execution_count": null,
   "id": "e1a3cc70-5185-4f14-87f0-54b594f27bf5",
   "metadata": {},
   "outputs": [],
   "source": [
    "# Create a list containing the names: baby_names\n",
    "baby_names = ['Ximena','Aliza','Ayden','Calvin']\n",
    "\n",
    "# Extend baby_names with 'Rowen' and 'Sandeep'\n",
    "baby_names.extend(['Rowen','Sandeep'])\n",
    "print(baby_names)\n",
    "\n",
    "# Find the position of 'Rowen': position\n",
    "position = baby_names.index('Rowen')\n",
    "\n",
    "# Remove 'Rowen' from baby_names\n",
    "baby_names.pop(position)\n",
    "\n",
    "# Print baby_names\n",
    "print(baby_names)"
   ]
  },
  {
   "cell_type": "markdown",
   "id": "15b3daea-a18c-4887-ae6d-1737b2c30a5d",
   "metadata": {},
   "source": [
    "### List comprehension"
   ]
  },
  {
   "cell_type": "code",
   "execution_count": null,
   "id": "559c48ee-1138-4859-b9d1-af750822574c",
   "metadata": {},
   "outputs": [],
   "source": [
    "# Use a list comprehension to iterate over each penguin in penguins saved as female_species_list\n",
    "# If the the sex of the penguin is 'FEMALE', return the species value\n",
    "female_species_list = [penguin[\"species\"] for penguin in penguins if penguin[\"sex\"] == 'FEMALE']\n",
    "#return a list"
   ]
  },
  {
   "cell_type": "markdown",
   "id": "77b7c2fe-e6bc-45ca-a060-eeb822cebb5f",
   "metadata": {},
   "source": [
    "## Tuple"
   ]
  },
  {
   "cell_type": "markdown",
   "id": "59956591-0dce-44b5-9f2b-2d103954e870",
   "metadata": {},
   "source": [
    "### Tupe(immutable and ordered) are commonly created by zipping lists together with zip()"
   ]
  },
  {
   "cell_type": "code",
   "execution_count": null,
   "id": "80f3e102-3571-4cb1-aa71-b19331ce656f",
   "metadata": {
    "executionCancelledAt": null,
    "executionTime": 57,
    "lastExecutedAt": 1689738914678,
    "lastScheduledRunId": null,
    "lastSuccessfullyExecutedCode": "# Pair up the girl and boy names: pairs\npairs = zip(girl_names,boy_names)"
   },
   "outputs": [
    {
     "ename": "NameError",
     "evalue": "name 'girl_names' is not defined",
     "output_type": "error",
     "traceback": [
      "\u001b[0;31m---------------------------------------------------------------------------\u001b[0m",
      "\u001b[0;31mNameError\u001b[0m                                 Traceback (most recent call last)",
      "Input \u001b[0;32mIn [3]\u001b[0m, in \u001b[0;36m<cell line: 2>\u001b[0;34m()\u001b[0m\n\u001b[1;32m      1\u001b[0m \u001b[38;5;66;03m# Pair up the girl and boy names: pairs\u001b[39;00m\n\u001b[0;32m----> 2\u001b[0m pairs \u001b[38;5;241m=\u001b[39m \u001b[38;5;28mzip\u001b[39m(\u001b[43mgirl_names\u001b[49m,boy_names)\n",
      "\u001b[0;31mNameError\u001b[0m: name 'girl_names' is not defined"
     ]
    }
   ],
   "source": [
    "# Pair up the girl and boy names: pairs\n",
    "pairs = zip(girl_names,boy_names)"
   ]
  },
  {
   "cell_type": "markdown",
   "id": "fd143f55-772c-414c-a266-52b50f9cc3bb",
   "metadata": {},
   "source": [
    "### Tuple unpacking"
   ]
  },
  {
   "cell_type": "code",
   "execution_count": null,
   "id": "6c0ce2ec-4210-4719-8d17-70bfa89e2294",
   "metadata": {},
   "outputs": [],
   "source": [
    "for rank, pair in enumerate(pairs):\n",
    "    #Unpacking\n",
    "    girl_name,boy_name = pair\n",
    "    print(rank)\n",
    "    print(girl_name)\n",
    "    print(boy_name)"
   ]
  },
  {
   "cell_type": "markdown",
   "id": "a9fb7742-1bfe-4df1-bb0f-3766ec15a847",
   "metadata": {},
   "source": [
    "### Tuple unpacking in loop"
   ]
  },
  {
   "cell_type": "markdown",
   "id": "57f7587d-2c88-4dd8-b568-2d01a5cbf439",
   "metadata": {},
   "source": [
    "## Set"
   ]
  },
  {
   "cell_type": "markdown",
   "id": "d5890f89-b508-4955-b375-e16f3cdb922b",
   "metadata": {},
   "source": [
    "### Unique, Unordered, Mutable. Created from a list"
   ]
  },
  {
   "cell_type": "code",
   "execution_count": null,
   "id": "d4f5a0fa-2edc-403c-91b7-49767d2e0935",
   "metadata": {},
   "outputs": [],
   "source": [
    "cookies_eaten_today = ['chocolate chip','peanut butter','chocolate chip','oatmeal cream']\n",
    "types_of_cookies_eaten = set('cookies_eaten_today') #duplicates are removed"
   ]
  },
  {
   "cell_type": "markdown",
   "id": "7701a82a-12cf-4fa9-a9eb-0f15b241c5a1",
   "metadata": {},
   "source": [
    "### Add element .add()\n",
    "### Adding multiple element .update()"
   ]
  },
  {
   "cell_type": "code",
   "execution_count": null,
   "id": "cafe7ab8-14a5-4a25-b601-9bd1008db23b",
   "metadata": {},
   "outputs": [],
   "source": []
  },
  {
   "cell_type": "markdown",
   "id": "15abf82d-7d17-420a-b6c1-a1466497288c",
   "metadata": {},
   "source": [
    "### .discard() to safely removes element        .pop() removes and return (error when empty)"
   ]
  },
  {
   "cell_type": "code",
   "execution_count": null,
   "id": "99688249-b738-4227-a60c-4c3083f69937",
   "metadata": {},
   "outputs": [],
   "source": []
  },
  {
   "cell_type": "markdown",
   "id": "4d4f1e86-6c26-48f4-bdb1-1820f7662872",
   "metadata": {},
   "source": [
    "### Set operations: .union() return a set of all names     .intersection() returns overlapping data between 2 sets\n",
    "### .difference() returns the data in the set on which the method was used that is not in the argument set"
   ]
  },
  {
   "cell_type": "code",
   "execution_count": null,
   "id": "aaf3ab68-e111-4892-8024-b9829da84e6e",
   "metadata": {},
   "outputs": [],
   "source": [
    "# Find the union: all_species\n",
    "all_species = female_penguin_species.union(male_penguin_species)\n",
    "\n",
    "# Print the count of names in all_species\n",
    "print(len(all_species))\n",
    "\n",
    "# Find the intersection: overlapping_species\n",
    "overlapping_species = female_penguin_species.intersection(male_penguin_species)\n",
    "\n",
    "# Print the count of species in overlapping_species\n",
    "print(len(overlapping_species))\n",
    "\n",
    "differences = female_penguin_species.difference(male_penguin_species)"
   ]
  },
  {
   "cell_type": "markdown",
   "id": "6bc9bf6a-53c2-4e96-8e0c-814e01609f69",
   "metadata": {},
   "source": [
    "## String"
   ]
  },
  {
   "cell_type": "markdown",
   "id": "8b9c5d53-53eb-427c-ab90-8b681235a702",
   "metadata": {},
   "source": [
    "### f-string"
   ]
  },
  {
   "cell_type": "code",
   "execution_count": null,
   "id": "b444f754-5afb-4474-9c50-a310d47f8428",
   "metadata": {},
   "outputs": [],
   "source": [
    "# Loop over top_ten_girl_names and unpack each tuple into top_ten_rank and name\n",
    "for top_ten_rank, name in top_ten_girl_names:\n",
    "  \t# Print each name in the proper format\n",
    "    print(f\"Rank #: { top_ten_rank } - { name }\")"
   ]
  },
  {
   "cell_type": "markdown",
   "id": "7601c8dd-ad7c-46f5-b6c9-0de0ba0f2cb4",
   "metadata": {},
   "source": [
    "### Using fstrings and join in string"
   ]
  },
  {
   "cell_type": "code",
   "execution_count": null,
   "id": "f51ddced-7753-4df3-a227-bc98c5463e12",
   "metadata": {},
   "outputs": [],
   "source": [
    "# The top ten boy names are:  as preamble\n",
    "preamble = \"The top ten boy names are: \"\n",
    "\n",
    "# , and as conjunction\n",
    "conjunction = ' , and'\n",
    "\n",
    "# Combines the first 9 names in boy_names with a comma and space as first_nine_names\n",
    "first_nine_names = \", \".join(boy_names[0:9])\n",
    "\n",
    "# Print f-string preamble, first_nine_names, conjunction, the final item in boy_names and a period\n",
    "print(f\"{preamble}{first_nine_names}{conjunction} {boy_names[-1]}.\")"
   ]
  },
  {
   "cell_type": "markdown",
   "id": "0be95369-2f17-4de2-b783-c26974292d24",
   "metadata": {},
   "source": [
    "### Search string in list"
   ]
  },
  {
   "cell_type": "code",
   "execution_count": null,
   "id": "09ce9269-ac56-4f0f-81ee-c3c5d2f9c041",
   "metadata": {},
   "outputs": [],
   "source": [
    "# Store a list of girl_names that start with s: names_with_s\n",
    "names_with_s = [name for name in girl_names if name.lower().startswith('s')]\n",
    "\n",
    "print(names_with_s)\n",
    "\n",
    "# Store a list of girl_names that contain angel: names_with_angel\n",
    "names_with_angel = [name for name in girl_names if 'angel' in name.lower()]\n",
    "\n",
    "print(names_with_angel)"
   ]
  },
  {
   "cell_type": "markdown",
   "id": "4d47c945-2ab9-4075-82de-7b2edf6d2ed3",
   "metadata": {},
   "source": [
    "## Dictionary"
   ]
  },
  {
   "cell_type": "markdown",
   "id": "d4a76da8-02a2-4a98-a83f-d63a41251f74",
   "metadata": {},
   "source": [
    "### Create dict and loop through elements"
   ]
  },
  {
   "cell_type": "code",
   "execution_count": null,
   "id": "2f3fab29-82d6-4f00-b5b8-06f449cfa295",
   "metadata": {},
   "outputs": [],
   "source": [
    "# Create an empty dictionary: squirrels_by_park\n",
    "squirrels_by_park = {}\n",
    "\n",
    "# Loop over the squirrels list and unpack each tuple\n",
    "for park, squirrel_details in squirrels:\n",
    "    # Add each squirrel_details to the squirrels_by_park dictionary \n",
    "    squirrels_by_park[park] = squirrel_details\n",
    "    \n",
    "# Sort the names_by_rank alphabetically dict by park\n",
    "for park in sorted(squirrels_by_park):\n",
    "    # Print each park and it's value in squirrels_by_park\n",
    "    print(f'{park}: {squirrels_by_park[park]}')"
   ]
  },
  {
   "cell_type": "markdown",
   "id": "378be70c-9c86-449c-a525-cd46283fcfe3",
   "metadata": {},
   "source": [
    "### Use get to safely access value"
   ]
  },
  {
   "cell_type": "code",
   "execution_count": null,
   "id": "a7545bf2-63f6-4f40-a80f-8e745c6e49ef",
   "metadata": {},
   "outputs": [],
   "source": [
    "# Safely print 'Union Square Park' from the squirrels_by_park dictionary\n",
    "print(squirrels_by_park.get('Union Square Park'))\n",
    "\n",
    "# Safely print the type of 'Fort Tryon Park' from the squirrels_by_park dictionary\n",
    "print(type(squirrels_by_park.get('Fort Tryon Park')))\n",
    "\n",
    "# Safely print 'Central Park' from the squirrels_by_park dictionary or 'Not Found'\n",
    "print(squirrels_by_park.get('Central Park', 'Not Found'))"
   ]
  },
  {
   "cell_type": "markdown",
   "id": "c3c9a613-5a91-4bd9-b4a6-46ce6728bb7a",
   "metadata": {},
   "source": [
    "### Adding data to dict"
   ]
  },
  {
   "cell_type": "code",
   "execution_count": 2,
   "id": "b5449b0f-2244-49cb-8ba2-c23175170afa",
   "metadata": {
    "executionCancelledAt": null,
    "executionTime": 62,
    "lastExecutedAt": 1689740083706,
    "lastScheduledRunId": null,
    "lastSuccessfullyExecutedCode": "art_galleries['10007'] = galleries_1007\n#galleries_1007 is a key value pair"
   },
   "outputs": [
    {
     "ename": "NameError",
     "evalue": "name 'galleries_1007' is not defined",
     "output_type": "error",
     "traceback": [
      "\u001b[0;31m---------------------------------------------------------------------------\u001b[0m",
      "\u001b[0;31mNameError\u001b[0m                                 Traceback (most recent call last)",
      "Input \u001b[0;32mIn [4]\u001b[0m, in \u001b[0;36m<cell line: 1>\u001b[0;34m()\u001b[0m\n\u001b[0;32m----> 1\u001b[0m art_galleries[\u001b[38;5;124m'\u001b[39m\u001b[38;5;124m10007\u001b[39m\u001b[38;5;124m'\u001b[39m] \u001b[38;5;241m=\u001b[39m \u001b[43mgalleries_1007\u001b[49m\n",
      "\u001b[0;31mNameError\u001b[0m: name 'galleries_1007' is not defined"
     ]
    }
   ],
   "source": [
    "art_galleries['10007'] = galleries_1007\n",
    "#galleries_1007 is a key value pair"
   ]
  },
  {
   "cell_type": "markdown",
   "id": "17eb3eb5-6e35-4a43-8dcd-aa741c7a02a7",
   "metadata": {},
   "source": [
    "### Updating dictionary"
   ]
  },
  {
   "cell_type": "code",
   "execution_count": null,
   "id": "3ff1240d-7d92-4ecd-bad7-5476ec93d460",
   "metadata": {},
   "outputs": [],
   "source": [
    "# Assign squirrels_madison as the value to the 'Madison Square Park' key\n",
    "squirrels_by_park['Madison Square Park'] = squirrels_madison\n",
    "\n",
    "# Update the 'Union Square Park' key with the squirrels_union tuple\n",
    "squirrels_by_park.update([squirrels_union])\n",
    "\n",
    "# Loop over the park_name in the squirrels_by_park dictionary \n",
    "for park_name in squirrels_by_park:\n",
    "    # Safely print a list of all primary_fur_colors for squirrels in the park_name\n",
    "    print(park_name, [squirrel.get('primary_fur_color', 'N/A') for squirrel in squirrels_by_park[park_name]])"
   ]
  },
  {
   "cell_type": "markdown",
   "id": "7cc6c586-5dba-4d48-842e-d277236d45b5",
   "metadata": {},
   "source": [
    "### Deleting element from dict"
   ]
  },
  {
   "cell_type": "code",
   "execution_count": null,
   "id": "b719fff1-70de-44e1-84ac-91670c35dc79",
   "metadata": {},
   "outputs": [],
   "source": [
    "# Remove \"Madison Square Park\" from squirrels_by_park\n",
    "squirrels_madison = squirrels_by_park.pop('Madison Square Park')\n",
    "\n",
    "# Safely remove \"City Hall Park\" from squirrels_by_park with an empty dictionary as the default\n",
    "squirrels_city_hall = squirrels_by_park.pop('City Hall Park', {})\n",
    "\n",
    "# Delete \"Union Square Park\" from squirrels_by_park\n",
    "del squirrels_by_park['Union Square Park']\n",
    "\n",
    "# Print squirrels_by_park\n",
    "print(squirrels_by_park)"
   ]
  },
  {
   "cell_type": "markdown",
   "id": "311ea5b8-d7f5-4b0a-85fd-34b0a9b85383",
   "metadata": {},
   "source": [
    "### Iterate over items in a dictionary"
   ]
  },
  {
   "cell_type": "code",
   "execution_count": null,
   "id": "b37586b0-83d8-40c8-a192-1fe764807164",
   "metadata": {},
   "outputs": [],
   "source": [
    "# Iterate over the first squirrel entry in the Madison Square Park list\n",
    "for field, value in squirrels_by_park[\"Madison Square Park\"][0].items():\n",
    "    # Print field and value\n",
    "    print(field, value)\n",
    "\n",
    "print('-' * 13)\n",
    "\n",
    "# Iterate over the second squirrel entry in the Union Square Park list\n",
    "for field, value in squirrels_by_park[\"Madison Square Park\"][1].items():\n",
    "    # Print field and value\n",
    "    print(field, value)"
   ]
  },
  {
   "cell_type": "markdown",
   "id": "6bd83597-32f1-46dc-ad8f-1468c67a2b89",
   "metadata": {},
   "source": [
    "### Checking items in dict"
   ]
  },
  {
   "cell_type": "code",
   "execution_count": null,
   "id": "b6360d81-a062-4e33-af2d-15fb23c7c109",
   "metadata": {},
   "outputs": [],
   "source": [
    "# Check to see if Tompkins Square Park is in squirrels_by_park\n",
    "if \"Tompkins Square Park\" in squirrels_by_park:\n",
    "    # Print 'Found Tompkins Square Park'\n",
    "    print('Found Tompkins Square Park')\n",
    "    \n",
    "# Check to see if Central Park is in squirrels_by_park\n",
    "if \"Central Park\" in squirrels_by_park:\n",
    "    # Print 'Found Central Park' if found\n",
    "    print('Found Central Park')\n",
    "else:\n",
    "    # Print 'Central Park missing' if not found\n",
    "    print('Central Park missing')"
   ]
  },
  {
   "cell_type": "markdown",
   "id": "d2e42269-f470-4931-a273-0e3d64e07cac",
   "metadata": {},
   "source": [
    "### Dealing with nested dictionaries"
   ]
  },
  {
   "cell_type": "code",
   "execution_count": null,
   "id": "e31759ae-f6ce-40e9-b710-b20b3ce79bdd",
   "metadata": {},
   "outputs": [],
   "source": [
    "# Print a list of keys from the squirrels_by_park dictionary\n",
    "print(squirrels_by_park.keys())\n",
    "\n",
    "# Print the keys from the squirrels_by_park dictionary for 'Union Square Park'\n",
    "print(squirrels_by_park['Union Square Park'].keys())\n",
    "\n",
    "# Loop over the dictionary\n",
    "for park_name in squirrels_by_park:\n",
    "    # Safely print the park_name and the highlights_in_fur_color or 'N/A'\n",
    "    print(park_name, squirrels_by_park[park_name].get('highlights_in_fur_color', 'N/A'))"
   ]
  },
  {
   "cell_type": "markdown",
   "id": "127c0925-b997-49a4-a045-4b1d4038ca9a",
   "metadata": {},
   "source": [
    "### Dealing with nested mixed types"
   ]
  },
  {
   "cell_type": "code",
   "execution_count": null,
   "id": "d182910b-8351-4bc5-b8f0-0e433d8bd2d3",
   "metadata": {},
   "outputs": [],
   "source": [
    "# Use a for loop to iterate over the squirrels in Tompkins Square Park:\n",
    "for squirrel in squirrels_by_park[\"Tompkins Square Park\"]:\n",
    "\t# Safely print the activities of each squirrel or None\n",
    "    print(squirrel.get(\"activities\"))\n",
    "    \n",
    "# Print the list of 'Cinnamon' primary_fur_color squirrels in Union Square Park\n",
    "print([squirrel for squirrel in squirrels_by_park[\"Union Square Park\"] if \"Cinnamon\" in squirrel[\"primary_fur_color\"]])"
   ]
  },
  {
   "cell_type": "markdown",
   "id": "1eb37601",
   "metadata": {},
   "source": [
    "### Dictionary handling"
   ]
  },
  {
   "cell_type": "code",
   "execution_count": null,
   "id": "9b97b82c",
   "metadata": {},
   "outputs": [],
   "source": [
    "# Create an empty dictionary: female_penguin_weights\n",
    "female_penguin_weights = {}\n",
    "\n",
    "# Iterate over the weight_log entries\n",
    "for species, sex, body_mass in weight_log:\n",
    "    # Check to see if species is already in the dictionary\n",
    "    if species not in female_penguin_weights:\n",
    "        # Create an empty list for any missing species\n",
    "        female_penguin_weights[species] = []\n",
    "    # Append the sex and body_mass as a tuple to the species keys list\n",
    "    female_penguin_weights[species].append((sex,body_mass))\n",
    "    \n",
    "# Print the weights for 'Adlie'\n",
    "print(female_penguin_weights['Adlie'])"
   ]
  },
  {
   "cell_type": "markdown",
   "id": "994a7a4b",
   "metadata": {},
   "source": [
    "### defaultdict"
   ]
  },
  {
   "cell_type": "code",
   "execution_count": null,
   "id": "b543a999",
   "metadata": {},
   "outputs": [],
   "source": [
    "# Import defaultdict\n",
    "from collections import defaultdict\n",
    "\n",
    "# Create a defaultdict with a default type of list: male_penguin_weights\n",
    "male_penguin_weights = defaultdict(list)\n",
    "\n",
    "# Iterate over the weight_log entries\n",
    "for species, sex, body_mass in weight_log:\n",
    "    # Use the species as the key, and append the body_mass to it\n",
    "    male_penguin_weights[species].append(body_mass)\n",
    "    \n",
    "# Print the first 2 items of the male_penguin_weights dictionary\n",
    "print(list(male_penguin_weights.items())[:2])"
   ]
  },
  {
   "cell_type": "markdown",
   "id": "7b3bb347-fe20-44ca-a3fc-5e5a5936ace8",
   "metadata": {},
   "source": [
    "## Loops"
   ]
  },
  {
   "cell_type": "markdown",
   "id": "b41e7851-924f-4aff-852d-10cb2be9685b",
   "metadata": {},
   "source": [
    "### Use enumerate to get both index number and element in the list"
   ]
  },
  {
   "cell_type": "code",
   "execution_count": null,
   "id": "d899b2ca-68ad-41d0-946b-b4a53d9157b2",
   "metadata": {},
   "outputs": [],
   "source": [
    "# areas list\n",
    "areas = [11.25, 18.0, 20.0, 10.75, 9.50]\n",
    "\n",
    "# Code the for loop\n",
    "for index, area in enumerate(areas) :\n",
    "    print(\"room \" + str(index) + \": \" + str(area))"
   ]
  },
  {
   "cell_type": "markdown",
   "id": "6a38665b-9518-4cb1-ac1e-16d13f0b00ca",
   "metadata": {},
   "source": [
    "Use dict.items() to loop both key and values from dictionary"
   ]
  },
  {
   "cell_type": "code",
   "execution_count": null,
   "id": "982b618d-3d9e-4349-aca5-4d751c289067",
   "metadata": {},
   "outputs": [],
   "source": [
    "# Definition of dictionary\n",
    "europe = {'spain':'madrid', 'france':'paris', 'germany':'berlin',\n",
    "          'norway':'oslo', 'italy':'rome', 'poland':'warsaw', 'austria':'vienna' }\n",
    "          \n",
    "# Iterate over europe\n",
    "for name,cap in europe.items():\n",
    "    print('the capital of '+name+' is '+cap)"
   ]
  },
  {
   "cell_type": "markdown",
   "id": "d29f7724-b1a1-440e-98f5-b665f039d64b",
   "metadata": {},
   "source": [
    "Use nditer to loop every element in 2d numpy array"
   ]
  },
  {
   "cell_type": "code",
   "execution_count": null,
   "id": "24fd0c73-0514-4949-8de3-a8a767096a28",
   "metadata": {},
   "outputs": [],
   "source": [
    "# Import numpy as np\n",
    "import numpy as np\n",
    "\n",
    "# For loop over np_height\n",
    "for h in np_height:\n",
    "    print(str(h)+' inches')\n",
    "\n",
    "# For loop over np_baseball\n",
    "for n in np.nditer(np_baseball):\n",
    "    print(n)"
   ]
  },
  {
   "cell_type": "markdown",
   "id": "ec5ad999-9076-46f8-a698-ba82f4bb57e6",
   "metadata": {},
   "source": [
    "Use iterrows to loop dataframe, get both label and rows"
   ]
  },
  {
   "cell_type": "code",
   "execution_count": null,
   "id": "ec4a4637-6770-4cf9-8c65-03d89796e7a5",
   "metadata": {},
   "outputs": [],
   "source": [
    "# Import cars data\n",
    "import pandas as pd\n",
    "cars = pd.read_csv('cars.csv', index_col = 0)\n",
    "\n",
    "# Iterate over rows of cars\n",
    "for lab, row in cars.iterrows():\n",
    "    print(lab)\n",
    "    print(row)\n",
    "\n",
    "# Adapt for loop\n",
    "for lab, row in cars.iterrows() :\n",
    "    print(row['country'] + ': '+str(row['cars_per_cap']))"
   ]
  },
  {
   "cell_type": "markdown",
   "id": "dd2e1e99-60f2-4380-bf28-a83506670704",
   "metadata": {},
   "source": [
    "Use tuple unpacking to loop tuples"
   ]
  },
  {
   "cell_type": "code",
   "execution_count": null,
   "id": "fa0a90aa-ddcf-4c7e-8f15-33082a60276b",
   "metadata": {},
   "outputs": [],
   "source": [
    "for us_cookie,in_cookie in top_pairs:\n",
    "    print(us_cookie)\n",
    "    print(in_cookie)"
   ]
  },
  {
   "cell_type": "markdown",
   "id": "704b12c9-02e9-4dc8-9833-e6ded0602b37",
   "metadata": {},
   "source": [
    "Enumerating positions in tuple, resulting in (0,'Chocolate Chip','Panjabi')"
   ]
  },
  {
   "cell_type": "code",
   "execution_count": null,
   "id": "29d44793-a168-424c-90fc-3a3a2c9adec5",
   "metadata": {},
   "outputs": [],
   "source": [
    "for idx,item in enumerate(top_pairs):\n",
    "    us_cookie, in_cookie = item\n",
    "    print(idx,us_cookie,in_cookie)"
   ]
  },
  {
   "cell_type": "markdown",
   "id": "4a3f3189-28a5-4f3f-aa0d-ddfb11d20687",
   "metadata": {},
   "source": [
    "## Dataframe"
   ]
  },
  {
   "cell_type": "markdown",
   "id": "920e4f6c-4d67-4569-897e-179eda20b354",
   "metadata": {},
   "source": [
    "Add new columns in dataframe based on existing column by using apply function"
   ]
  },
  {
   "cell_type": "code",
   "execution_count": null,
   "id": "335f19ff-9e66-4c6b-a1e1-930756984099",
   "metadata": {},
   "outputs": [],
   "source": [
    "# Import cars data\n",
    "import pandas as pd\n",
    "cars = pd.read_csv('cars.csv', index_col = 0)\n",
    "\n",
    "# Use .apply(str.upper)\n",
    "cars['COUNTRY'] = cars['country'].apply(str.upper)"
   ]
  },
  {
   "cell_type": "markdown",
   "id": "3735760e-8f2c-4e83-8f6d-8ce80503ee7a",
   "metadata": {},
   "source": [
    "# Collections"
   ]
  },
  {
   "cell_type": "markdown",
   "id": "654105ce-8e80-499e-80f4-3a20c3d22e90",
   "metadata": {},
   "source": [
    "## Counter  Special dictionary used for counting data, measuring frequency"
   ]
  },
  {
   "cell_type": "code",
   "execution_count": null,
   "id": "cafe92ec-f3cf-426d-882f-642304c903f0",
   "metadata": {},
   "outputs": [],
   "source": [
    "# Import the Counter object\n",
    "from collections import Counter \n",
    "\n",
    "# Create a Counter of the penguins sex using a list comp\n",
    "penguins_sex_counts = Counter([penguin['Sex'] for penguin in penguins])\n",
    "\n",
    "# Print the penguins_sex_counts\n",
    "print(penguins_sex_counts)"
   ]
  },
  {
   "cell_type": "markdown",
   "id": "1bba39d6",
   "metadata": {},
   "source": [
    "## .most_common() to get most common elements in the Counter"
   ]
  },
  {
   "cell_type": "code",
   "execution_count": null,
   "id": "1116146e",
   "metadata": {},
   "outputs": [],
   "source": [
    "# Find the 3 most common species counts\n",
    "print(penguins_species_counts.most_common(3))"
   ]
  },
  {
   "cell_type": "markdown",
   "id": "8d94387b",
   "metadata": {},
   "source": [
    "### defaultdict gives every key a type even when it doesn't exist"
   ]
  },
  {
   "cell_type": "code",
   "execution_count": null,
   "id": "ad31a5f0",
   "metadata": {},
   "outputs": [],
   "source": [
    "# Import defaultdict\n",
    "from collections import defaultdict\n",
    "\n",
    "# Create a defaultdict with a default type of list: male_penguin_weights\n",
    "male_penguin_weights = defaultdict(list)\n",
    "\n",
    "# Iterate over the weight_log entries\n",
    "for species, sex, body_mass in weight_log:\n",
    "    # Use the species as the key, and append the body_mass to it\n",
    "    male_penguin_weights[species].append(body_mass)\n",
    "    \n",
    "# Print the first 2 items of the male_penguin_weights dictionary\n",
    "print(list(male_penguin_weights.items())[:2])"
   ]
  },
  {
   "cell_type": "markdown",
   "id": "ca5b7de6",
   "metadata": {},
   "source": [
    "### namedtuple, alternative to a dataframe row, gives every tuple position a name"
   ]
  },
  {
   "cell_type": "code",
   "execution_count": null,
   "id": "428cce82",
   "metadata": {},
   "outputs": [],
   "source": [
    "# Import namedtuple from collections\n",
    "from collections import namedtuple\n",
    "\n",
    "# Create the namedtuple: SpeciesDetails\n",
    "SpeciesDetails = namedtuple('SpeciesDetails', ['species', 'sex', 'body_mass'])\n",
    "\n",
    "# Create the empty list: labeled_entries\n",
    "labeled_entries = []\n",
    "\n",
    "# Iterate over the weight_log entries\n",
    "for species, sex, body_mass in weight_log:\n",
    "    # Append a new SpeciesDetails namedtuple instance for each entry to labeled_entries\n",
    "    labeled_entries.append(SpeciesDetails(species,sex,body_mass))\n",
    "    \n",
    "print(labeled_entries[:5])"
   ]
  },
  {
   "cell_type": "code",
   "execution_count": null,
   "id": "2116d314",
   "metadata": {},
   "outputs": [],
   "source": [
    "# Iterate over the first twenty entries in labeled_entries\n",
    "for entry in labeled_entries[:20]:\n",
    "    # if the entry's species is Chinstrap\n",
    "    if entry.species == 'Chinstrap':\n",
    "      # Print each entry's sex and body_mass seperated by a colon\n",
    "      print(f'{entry.sex}:{entry.body_mass}')"
   ]
  },
  {
   "cell_type": "markdown",
   "id": "3284e826",
   "metadata": {},
   "source": [
    "# dataclasses"
   ]
  },
  {
   "cell_type": "code",
   "execution_count": null,
   "id": "95f190ba",
   "metadata": {},
   "outputs": [],
   "source": [
    "from dataclasses import dataclass\n",
    "\n",
    "@dataclass #(frozen=true) to make it frozen\n",
    "class  Cookie:\n",
    "    name: str\n",
    "    quantity: int = 0\n",
    "\n",
    "chocolate_chip = Cookie(\"chocolate chip\", 13)\n",
    "print(chocolate_chip.name)\n",
    "print(chocolate_chip.quantity)\n"
   ]
  },
  {
   "cell_type": "markdown",
   "id": "4e0b1c0a",
   "metadata": {},
   "source": [
    "### Easy tuple or a dictionary conversion"
   ]
  },
  {
   "cell_type": "code",
   "execution_count": null,
   "id": "6e083666",
   "metadata": {},
   "outputs": [],
   "source": [
    "from dataclasses import asdict, astuple\n",
    "\n",
    "ginger_molasses = Cookie(\"ginger molasses\", 8)\n",
    "\n",
    "asdict(ginger_molasses)\n",
    "#output: {'name': 'ginger molasses', 'quantity': 8}\n",
    "\n",
    "astuple(ginger_molasses)\n",
    "#output: ('ginger molasses', 8)\n"
   ]
  },
  {
   "cell_type": "markdown",
   "id": "8b42d55b",
   "metadata": {},
   "source": [
    "###  Custom properties"
   ]
  },
  {
   "cell_type": "code",
   "execution_count": null,
   "id": "75ab5570",
   "metadata": {},
   "outputs": [],
   "source": [
    "from decimal import Decimal\n",
    "@dataclass\n",
    "class Cookie:\n",
    "    name: str\n",
    "    cost: Decimal\n",
    "    quantity: int\n",
    "    @property\n",
    "    def value_of_goods(self):\n",
    "        returnint(self.quantity) * self.cost\n",
    "        \n",
    "peanut = Cookie(\"peanut butter\", Decimal(\"1.2\"), 8)\n",
    "peanut.value_of_goods\n",
    "\n",
    "#output: Decimal('9.6')"
   ]
  },
  {
   "cell_type": "markdown",
   "id": "d5e0e1aa",
   "metadata": {},
   "source": [
    "# Function"
   ]
  },
  {
   "cell_type": "markdown",
   "id": "f795dbec",
   "metadata": {},
   "source": [
    "## Returning function"
   ]
  },
  {
   "cell_type": "code",
   "execution_count": null,
   "id": "78c045b8",
   "metadata": {},
   "outputs": [],
   "source": [
    "# Define echo\n",
    "def echo(n):\n",
    "    \"\"\"Return the inner_echo function.\"\"\"\n",
    "\n",
    "    # Define inner_echo\n",
    "    def inner_echo(word1):\n",
    "        \"\"\"Concatenate n copies of word1.\"\"\"\n",
    "        echo_word = word1 * n\n",
    "        return echo_word\n",
    "\n",
    "    # Return inner_echo\n",
    "    return inner_echo\n",
    "\n",
    "# Call echo: twice\n",
    "twice = echo(2)\n",
    "\n",
    "# Call echo: thrice\n",
    "thrice = echo(3)\n",
    "\n",
    "# Call twice() and thrice() then print\n",
    "print(twice('hello'), thrice('hello'))"
   ]
  },
  {
   "cell_type": "markdown",
   "id": "56f7cbcb",
   "metadata": {},
   "source": [
    "## Flexible argument"
   ]
  },
  {
   "cell_type": "markdown",
   "id": "b45187da",
   "metadata": {},
   "source": [
    "### *args takes a number of argument and make them as a tuple"
   ]
  },
  {
   "cell_type": "code",
   "execution_count": null,
   "id": "113e8c2c",
   "metadata": {},
   "outputs": [],
   "source": [
    "# Define gibberish\n",
    "def gibberish(*args):\n",
    "    \"\"\"Concatenate strings in *args together.\"\"\"\n",
    "\n",
    "    # Initialize an empty string: hodgepodge\n",
    "    hodgepodge = ''\n",
    "\n",
    "    # Concatenate the strings in args\n",
    "    for word in args:\n",
    "        hodgepodge += word\n",
    "\n",
    "    # Return hodgepodge\n",
    "    return hodgepodge\n",
    "\n",
    "# Call gibberish() with one string: one_word\n",
    "one_word = gibberish('Luke')\n",
    "\n",
    "# Call gibberish() with five strings: many_words\n",
    "many_words = gibberish(\"luke\", \"leia\", \"han\", \"obi\", \"darth\")\n",
    "\n",
    "# Print one_word and many_words\n",
    "print(one_word)\n",
    "print(many_words)"
   ]
  },
  {
   "cell_type": "code",
   "execution_count": null,
   "id": "b3a7bb99",
   "metadata": {},
   "outputs": [],
   "source": [
    "# Define count_entries()\n",
    "def count_entries(df, *args):\n",
    "    \"\"\"Return a dictionary with counts of\n",
    "    occurrences as value for each key.\"\"\"\n",
    "    \n",
    "    #Initialize an empty dictionary: cols_count\n",
    "    cols_count = {}\n",
    "    \n",
    "    # Iterate over column names in args\n",
    "    for col_name in args:\n",
    "    \n",
    "        # Extract column from DataFrame: col\n",
    "        col = df[col_name]\n",
    "    \n",
    "        # Iterate over the column in DataFrame\n",
    "        for entry in col:\n",
    "    \n",
    "            # If entry is in cols_count, add 1\n",
    "            if entry in cols_count.keys():\n",
    "                cols_count[entry] += 1\n",
    "    \n",
    "            # Else add the entry to cols_count, set the value to 1\n",
    "            else:\n",
    "                cols_count[entry] = 1\n",
    "\n",
    "    # Return the cols_count dictionary\n",
    "    return cols_count\n",
    "\n",
    "# Call count_entries(): result1\n",
    "result1 = count_entries(tweets_df,'lang')\n",
    "\n",
    "# Call count_entries(): result2\n",
    "result2 = count_entries(tweets_df,'lang','source')\n",
    "\n",
    "# Print result1 and result2\n",
    "print(result1)\n",
    "print(result2)"
   ]
  },
  {
   "cell_type": "markdown",
   "id": "875e0c7d",
   "metadata": {},
   "source": [
    "### *kwargs takes a number of arguments as a dictionary"
   ]
  },
  {
   "cell_type": "code",
   "execution_count": null,
   "id": "a7558843",
   "metadata": {},
   "outputs": [],
   "source": [
    "# Define report_status\n",
    "def report_status(**kwargs):\n",
    "    \"\"\"Print out the status of a movie character.\"\"\"\n",
    "\n",
    "    print(\"\\nBEGIN: REPORT\\n\")\n",
    "\n",
    "    # Iterate over the key-value pairs of kwargs\n",
    "    for key, value in kwargs.items():\n",
    "        # Print out the keys and values, separated by a colon ':'\n",
    "        print(key + \": \" + value)\n",
    "\n",
    "    print(\"\\nEND REPORT\")\n",
    "\n",
    "# First call to report_status()\n",
    "report_status(name='luke',affiliation='jedi',status='missing')\n",
    "\n",
    "# Second call to report_status()\n",
    "report_status(name='anakin', affiliation='sith lord', status='deceased')"
   ]
  },
  {
   "cell_type": "markdown",
   "id": "011b29f4",
   "metadata": {},
   "source": [
    "## lambda function:  lambda variable : return value"
   ]
  },
  {
   "cell_type": "code",
   "execution_count": null,
   "id": "5dcd9f1b",
   "metadata": {},
   "outputs": [],
   "source": [
    "# Define echo_word as a lambda function: echo_word\n",
    "echo_word = (lambda word1,echo: word1 * echo)\n",
    "\n",
    "# Call echo_word: result\n",
    "result = echo_word('Hey',5)\n",
    "\n",
    "# Print result\n",
    "print(result)"
   ]
  },
  {
   "cell_type": "markdown",
   "id": "b7c4ddf7",
   "metadata": {},
   "source": [
    "### Filter using lambda "
   ]
  },
  {
   "cell_type": "code",
   "execution_count": null,
   "id": "5f4c8ff0",
   "metadata": {},
   "outputs": [],
   "source": [
    "# Create a list of strings: fellowship\n",
    "fellowship = ['frodo', 'samwise', 'merry', 'pippin', 'aragorn', 'boromir', 'legolas', 'gimli', 'gandalf']\n",
    "\n",
    "# Use filter() to apply a lambda function over fellowship: result\n",
    "result = filter(lambda member: len(member)>6, fellowship)\n",
    "\n",
    "# Convert result to a list: result_list\n",
    "result_list = list(result)\n",
    "\n",
    "# Print result_list\n",
    "print(result_list)"
   ]
  },
  {
   "cell_type": "markdown",
   "id": "e68b4514",
   "metadata": {},
   "source": [
    "# Error handling"
   ]
  },
  {
   "cell_type": "markdown",
   "id": "00cd8227",
   "metadata": {},
   "source": [
    "## Try except "
   ]
  },
  {
   "cell_type": "code",
   "execution_count": null,
   "id": "18bb3fb7",
   "metadata": {},
   "outputs": [],
   "source": [
    "# Define shout_echo\n",
    "def shout_echo(word1, echo=1):\n",
    "    \"\"\"Concatenate echo copies of word1 and three\n",
    "    exclamation marks at the end of the string.\"\"\"\n",
    "\n",
    "    # Initialize empty strings: echo_word, shout_words\n",
    "    echo_word = ''\n",
    "    shout_words = ''\n",
    "    \n",
    "\n",
    "    # Add exception handling with try-except\n",
    "    try:\n",
    "        # Concatenate echo copies of word1 using *: echo_word\n",
    "        echo_word = echo * word1\n",
    "\n",
    "        # Concatenate '!!!' to echo_word: shout_words\n",
    "        shout_words = echo_word + '!!!'\n",
    "    except:\n",
    "        # Print error message\n",
    "        print(\"word1 must be a string and echo must be an integer.\")\n",
    "\n",
    "    # Return shout_words\n",
    "    return shout_words\n",
    "\n",
    "# Call shout_echo\n",
    "shout_echo(\"particle\", echo=\"accelerator\")"
   ]
  },
  {
   "cell_type": "markdown",
   "id": "3ad99cc2",
   "metadata": {},
   "source": [
    "## raise error"
   ]
  },
  {
   "cell_type": "code",
   "execution_count": null,
   "id": "c3bfff46",
   "metadata": {},
   "outputs": [],
   "source": [
    "# Define shout_echo\n",
    "def shout_echo(word1, echo=1):\n",
    "    \"\"\"Concatenate echo copies of word1 and three\n",
    "    exclamation marks at the end of the string.\"\"\"\n",
    "\n",
    "    # Raise an error with raise\n",
    "    if echo < 0:\n",
    "        raise ValueError('echo must be greater than or equal to 0')\n",
    "\n",
    "    # Concatenate echo copies of word1 using *: echo_word\n",
    "    echo_word = word1 * echo\n",
    "\n",
    "    # Concatenate '!!!' to echo_word: shout_word\n",
    "    shout_word = echo_word + '!!!'\n",
    "\n",
    "    # Return shout_word\n",
    "    return shout_word\n",
    "\n",
    "# Call shout_echo\n",
    "shout_echo(\"particle\", echo=5)"
   ]
  }
 ],
 "metadata": {
  "colab": {
   "name": "Welcome to DataCamp Workspaces.ipynb",
   "provenance": []
  },
  "kernelspec": {
   "display_name": "Python 3",
   "language": "python",
   "name": "python3"
  },
  "language_info": {
   "codemirror_mode": {
    "name": "ipython",
    "version": 3
   },
   "file_extension": ".py",
   "mimetype": "text/x-python",
   "name": "python",
   "nbconvert_exporter": "python",
   "pygments_lexer": "ipython3",
   "version": "3.8.8"
  }
 },
 "nbformat": 4,
 "nbformat_minor": 5
}
